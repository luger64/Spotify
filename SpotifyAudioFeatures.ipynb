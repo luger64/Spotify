{
 "cells": [
  {
   "cell_type": "code",
   "execution_count": 5,
   "metadata": {},
   "outputs": [],
   "source": [
    "import numpy as np\n",
    "import pandas as pd\n",
    "import spotipy\n",
    "from spotipy.oauth2 import SpotifyClientCredentials\n",
    "sp = spotipy.Spotify(auth_manager= SpotifyClientCredentials(client_id=\"f854a0450b6b42a28e2ca07467952dd9\", client_secret=\"a03c781ad399487daf947c4a2533bd79\"))\n",
    "sp.trace = False\n",
    "file = pd.read_csv(\"DataNoDup.csv\",encoding= 'unicode_escape')\n",
    "\n",
    "#Loading Artists, URIs, and Albums from CSV\n",
    "type(file['AlbumURI'])\n",
    "album_uri_array = np.array(file['AlbumURI'])\n",
    "\n",
    "def get_track_duration(track_uri):\n",
    "    duration = sp.audio_features(track_uri)[0]['duration_ms']\n",
    "    return duration\n",
    "\n",
    "def get_album_duration(album_uri):\n",
    "    track_duration = []\n",
    "    tracks = sp.album_tracks(album_uri)\n",
    "    for track in tracks['items']:\n",
    "        track_duration.append(track['duration_ms'])\n",
    "    album_duration = sum(track_duration)\n",
    "    return album_duration"
   ]
  },
  {
   "cell_type": "code",
   "execution_count": 3,
   "metadata": {},
   "outputs": [],
   "source": [
    "def get_track_valence(track_uri):\n",
    "    return sp.audio_features(track_uri)[0]['valence']\n",
    "\n",
    "def get_album_valence(album_uri):\n",
    "    album_valence = []\n",
    "    tracks = sp.album_tracks(album_uri)\n",
    "    for i in range(0, len(tracks['items'])):\n",
    "        album_valence.append(get_track_valence(sp.album_tracks(album_uri)['items'][i]['uri']))\n",
    "    album_valence = sum(album_valence)\n",
    "    return album_valence"
   ]
  },
  {
   "cell_type": "code",
   "execution_count": null,
   "metadata": {},
   "outputs": [],
   "source": [
    "album_valence_ari_list = []\n",
    "i = 0\n",
    "for i in range(0,len(album_uri_array)):\n",
    "    album_uri = album_uri_array[i]\n",
    "    album_valence_ari_list.append(get_album_valence(album_uri) / (len(sp.album_tracks(album_uri)['items'])))"
   ]
  },
  {
   "cell_type": "code",
   "execution_count": null,
   "metadata": {},
   "outputs": [],
   "source": [
    "album_valence_geo_list = []\n",
    "\n",
    "for i in range(0,len(album_uri_array)):\n",
    "    weighted_val = []\n",
    "    album_uri = album_uri_array[i]\n",
    "    for x in range(0, len(sp.album_tracks(album_uri)['items'])):\n",
    "        t_dur = get_track_duration(sp.album_tracks(album_uri)['items'][x]['uri'])\n",
    "        a_dur = get_album_duration(album_uri)\n",
    "        t_val = get_track_valence(sp.album_tracks(album_uri)['items'][x]['uri'])\n",
    "        weighted_val.append(t_val * (t_dur/a_dur))\n",
    "    sum_weighted_val = sum(weighted_val)\n",
    "    album_valence_geo_list.append(sum_weighted_val)"
   ]
  },
  {
   "cell_type": "code",
   "execution_count": null,
   "metadata": {},
   "outputs": [],
   "source": [
    "def get_track_danceability(track_uri):\n",
    "    return sp.audio_features(track_uri)[0]['danceability']\n",
    "\n",
    "def get_album_danceability(album_uri):\n",
    "    album_danceability = []\n",
    "    tracks = sp.album_tracks(album_uri)\n",
    "    for i in range(0, len(tracks['items'])):\n",
    "        album_danceability.append(get_track_danceability(sp.album_tracks(album_uri)['items'][i]['uri']))\n",
    "    album_danceability = sum(album_danceability)\n",
    "    return album_danceability"
   ]
  },
  {
   "cell_type": "code",
   "execution_count": null,
   "metadata": {},
   "outputs": [],
   "source": [
    "album_danceability_ari_list = []\n",
    "i = 0\n",
    "for i in range(0,len(album_uri_array)):\n",
    "    album_uri = album_uri_array[i]\n",
    "    album_danceability_ari_list.append(get_album_danceability(album_uri) / (len(sp.album_tracks(album_uri)['items'])))"
   ]
  },
  {
   "cell_type": "code",
   "execution_count": null,
   "metadata": {},
   "outputs": [],
   "source": [
    "album_danceability_geo_list = []\n",
    "\n",
    "for i in range(0,len(album_uri_array)):\n",
    "    weighted_val = []\n",
    "    album_uri = album_uri_array[i]\n",
    "    for x in range(0, len(sp.album_tracks(album_uri)['items'])):\n",
    "        t_dur = get_track_duration(sp.album_tracks(album_uri)['items'][x]['uri'])\n",
    "        a_dur = get_album_duration(album_uri)\n",
    "        t_val = get_track_danceability(sp.album_tracks(album_uri)['items'][x]['uri'])\n",
    "        weighted_val.append(t_val * (t_dur/a_dur))\n",
    "    sum_weighted_val = sum(weighted_val)\n",
    "    album_danceability_geo_list.append(sum_weighted_val)"
   ]
  },
  {
   "cell_type": "code",
   "execution_count": null,
   "metadata": {},
   "outputs": [],
   "source": [
    "def get_track_energy(track_uri):\n",
    "    return sp.audio_features(track_uri)[0]['energy']\n",
    "\n",
    "def get_album_energy(album_uri):\n",
    "    album_energy = []\n",
    "    tracks = sp.album_tracks(album_uri)\n",
    "    for i in range(0, len(tracks['items'])):\n",
    "        album_energy.append(get_track_energy(sp.album_tracks(album_uri)['items'][i]['uri']))\n",
    "    album_energy = sum(album_energy)\n",
    "    return album_energy"
   ]
  },
  {
   "cell_type": "code",
   "execution_count": null,
   "metadata": {},
   "outputs": [],
   "source": [
    "album_energy_ari_list = []\n",
    "i = 0\n",
    "for i in range(0,len(album_uri_array)):\n",
    "    album_uri = album_uri_array[i]\n",
    "    album_energy_ari_list.append(get_album_energy(album_uri) / (len(sp.album_tracks(album_uri)['items'])))"
   ]
  },
  {
   "cell_type": "code",
   "execution_count": null,
   "metadata": {},
   "outputs": [],
   "source": [
    "album_energy_geo_list = []\n",
    "\n",
    "for i in range(0,len(album_uri_array)):\n",
    "    weighted_val = []\n",
    "    album_uri = album_uri_array[i]\n",
    "    for x in range(0, len(sp.album_tracks(album_uri)['items'])):\n",
    "        t_dur = get_track_duration(sp.album_tracks(album_uri)['items'][x]['uri'])\n",
    "        a_dur = get_album_duration(album_uri)\n",
    "        t_val = get_track_energy(sp.album_tracks(album_uri)['items'][x]['uri'])\n",
    "        weighted_val.append(t_val * (t_dur/a_dur))\n",
    "    sum_weighted_val = sum(weighted_val)\n",
    "    album_energy_geo_list.append(sum_weighted_val)"
   ]
  },
  {
   "cell_type": "code",
   "execution_count": null,
   "metadata": {},
   "outputs": [],
   "source": [
    "def get_track_key(track_uri):\n",
    "    return sp.audio_features(track_uri)[0]['key']\n",
    "\n",
    "def get_album_key(album_uri):\n",
    "    album_key = []\n",
    "    tracks = sp.album_tracks(album_uri)\n",
    "    for i in range(0, len(tracks['items'])):\n",
    "        album_key.append(get_track_key(sp.album_tracks(album_uri)['items'][i]['uri']))\n",
    "    album_key = sum(album_key)\n",
    "    return album_key"
   ]
  },
  {
   "cell_type": "code",
   "execution_count": null,
   "metadata": {},
   "outputs": [],
   "source": [
    "album_key_ari_list = []\n",
    "i = 0\n",
    "for i in range(0,len(album_uri_array)):\n",
    "    album_uri = album_uri_array[i]\n",
    "    album_key_ari_list.append(get_album_key(album_uri) / (len(sp.album_tracks(album_uri)['items'])))"
   ]
  },
  {
   "cell_type": "code",
   "execution_count": null,
   "metadata": {},
   "outputs": [],
   "source": [
    "album_key_geo_list = []\n",
    "\n",
    "for i in range(0,len(album_uri_array)):\n",
    "    weighted_val = []\n",
    "    album_uri = album_uri_array[i]\n",
    "    for x in range(0, len(sp.album_tracks(album_uri)['items'])):\n",
    "        t_dur = get_track_duration(sp.album_tracks(album_uri)['items'][x]['uri'])\n",
    "        a_dur = get_album_duration(album_uri)\n",
    "        t_val = get_track_key(sp.album_tracks(album_uri)['items'][x]['uri'])\n",
    "        weighted_val.append(t_val * (t_dur/a_dur))\n",
    "    sum_weighted_val = sum(weighted_val)\n",
    "    album_key_geo_list.append(sum_weighted_val)"
   ]
  },
  {
   "cell_type": "code",
   "execution_count": null,
   "metadata": {},
   "outputs": [],
   "source": [
    "def get_track_loudness(track_uri):\n",
    "    return sp.audio_features(track_uri)[0]['loudness']\n",
    "\n",
    "def get_album_loudness(album_uri):\n",
    "    album_loudness = []\n",
    "    tracks = sp.album_tracks(album_uri)\n",
    "    for i in range(0, len(tracks['items'])):\n",
    "        album_loudness.append(get_track_loudness(sp.album_tracks(album_uri)['items'][i]['uri']))\n",
    "    album_loudness = sum(album_loudness)\n",
    "    return album_loudness"
   ]
  },
  {
   "cell_type": "code",
   "execution_count": null,
   "metadata": {},
   "outputs": [],
   "source": [
    "album_loudness_ari_list = []\n",
    "i = 0\n",
    "for i in range(0,len(album_uri_array)):\n",
    "    album_uri = album_uri_array[i]\n",
    "    album_loudness_ari_list.append(get_album_loudness(album_uri) / (len(sp.album_tracks(album_uri)['items'])))"
   ]
  },
  {
   "cell_type": "code",
   "execution_count": null,
   "metadata": {},
   "outputs": [],
   "source": [
    "album_loudness_geo_list = []\n",
    "\n",
    "for i in range(0,len(album_uri_array)):\n",
    "    weighted_val = []\n",
    "    album_uri = album_uri_array[i]\n",
    "    for x in range(0, len(sp.album_tracks(album_uri)['items'])):\n",
    "        t_dur = get_track_duration(sp.album_tracks(album_uri)['items'][x]['uri'])\n",
    "        a_dur = get_album_duration(album_uri)\n",
    "        t_val = get_track_loudness(sp.album_tracks(album_uri)['items'][x]['uri'])\n",
    "        weighted_val.append(t_val * (t_dur/a_dur))\n",
    "    sum_weighted_val = sum(weighted_val)\n",
    "    album_loudness_geo_list.append(sum_weighted_val)"
   ]
  },
  {
   "cell_type": "code",
   "execution_count": 6,
   "metadata": {},
   "outputs": [],
   "source": [
    "def get_track_mode(track_uri):\n",
    "    return sp.audio_features(track_uri)[0]['mode']\n",
    "\n",
    "def get_album_mode(album_uri):\n",
    "    album_mode = []\n",
    "    tracks = sp.album_tracks(album_uri)\n",
    "    for i in range(0, len(tracks['items'])):\n",
    "        album_mode.append(get_track_mode(sp.album_tracks(album_uri)['items'][i]['uri']))\n",
    "    album_mode = sum(album_mode)\n",
    "    return album_mode"
   ]
  },
  {
   "cell_type": "code",
   "execution_count": null,
   "metadata": {},
   "outputs": [],
   "source": [
    "album_mode_ari_list = []\n",
    "i = 0\n",
    "for i in range(0,len(album_uri_array)):\n",
    "    album_uri = album_uri_array[i]\n",
    "    album_mode_ari_list.append(get_album_mode(album_uri) / (len(sp.album_tracks(album_uri)['items'])))"
   ]
  },
  {
   "cell_type": "code",
   "execution_count": null,
   "metadata": {},
   "outputs": [],
   "source": [
    "album_mode_geo_list = []\n",
    "album_mode_geo2_list = []\n",
    "\n",
    "for i in range(350,len(album_uri_array)):\n",
    "    weighted_val = []\n",
    "    album_uri = album_uri_array[i]\n",
    "    for x in range(0, len(sp.album_tracks(album_uri)['items'])):\n",
    "        t_dur = get_track_duration(sp.album_tracks(album_uri)['items'][x]['uri'])\n",
    "        a_dur = get_album_duration(album_uri)\n",
    "        t_val = get_track_mode(sp.album_tracks(album_uri)['items'][x]['uri'])\n",
    "        weighted_val.append(t_val * (t_dur/a_dur))\n",
    "    sum_weighted_val = sum(weighted_val)\n",
    "    album_mode_geo2_list.append(sum_weighted_val)\n",
    "print('Done')"
   ]
  },
  {
   "cell_type": "code",
   "execution_count": null,
   "metadata": {},
   "outputs": [],
   "source": [
    "def get_track_speechiness(track_uri):\n",
    "    return sp.audio_features(track_uri)[0]['speechiness']\n",
    "\n",
    "def get_album_speechiness(album_uri):\n",
    "    album_speechiness = []\n",
    "    tracks = sp.album_tracks(album_uri)\n",
    "    for i in range(0, len(tracks['items'])):\n",
    "        album_speechiness.append(get_track_speechiness(sp.album_tracks(album_uri)['items'][i]['uri']))\n",
    "    album_speechiness = sum(album_speechiness)\n",
    "    return album_speechiness"
   ]
  },
  {
   "cell_type": "code",
   "execution_count": null,
   "metadata": {},
   "outputs": [],
   "source": [
    "album_speechiness_ari_list = []\n",
    "i = 0\n",
    "for i in range(0,len(album_uri_array)):\n",
    "    album_uri = album_uri_array[i]\n",
    "    album_speechiness_ari_list.append(get_album_speechiness(album_uri) / (len(sp.album_tracks(album_uri)['items'])))"
   ]
  },
  {
   "cell_type": "code",
   "execution_count": null,
   "metadata": {},
   "outputs": [],
   "source": [
    "album_speechiness_geo_list = []\n",
    "\n",
    "for i in range(0,len(album_uri_array)):\n",
    "    weighted_val = []\n",
    "    album_uri = album_uri_array[i]\n",
    "    sp = spotipy.Spotify(auth_manager= SpotifyClientCredentials(client_id=\"f854a0450b6b42a28e2ca07467952dd9\", client_secret=\"a03c781ad399487daf947c4a2533bd79\"))\n",
    "    for x in range(0, len(sp.album_tracks(album_uri)['items'])):\n",
    "        t_dur = get_track_duration(sp.album_tracks(album_uri)['items'][x]['uri'])\n",
    "        a_dur = get_album_duration(album_uri)\n",
    "        t_val = get_track_speechiness(sp.album_tracks(album_uri)['items'][x]['uri'])\n",
    "        weighted_val.append(t_val * (t_dur/a_dur))\n",
    "    sum_weighted_val = sum(weighted_val)\n",
    "    album_speechiness_geo_list.append(sum_weighted_val)"
   ]
  },
  {
   "cell_type": "code",
   "execution_count": null,
   "metadata": {},
   "outputs": [],
   "source": [
    "def get_track_acousticness(track_uri):\n",
    "    return sp.audio_features(track_uri)[0]['acousticness']\n",
    "\n",
    "def get_album_acousticness(album_uri):\n",
    "    album_acousticness = []\n",
    "    tracks = sp.album_tracks(album_uri)\n",
    "    for i in range(0, len(tracks['items'])):\n",
    "        album_acousticness.append(get_track_acousticness(sp.album_tracks(album_uri)['items'][i]['uri']))\n",
    "    album_acousticness = sum(album_acousticness)\n",
    "    return album_acousticness"
   ]
  },
  {
   "cell_type": "code",
   "execution_count": null,
   "metadata": {},
   "outputs": [],
   "source": [
    "album_acousticness_ari_list = []\n",
    "i = 0\n",
    "for i in range(0,len(album_uri_array)):\n",
    "    album_uri = album_uri_array[i]\n",
    "    album_acousticness_ari_list.append(get_album_acousticness(album_uri) / (len(sp.album_tracks(album_uri)['items'])))"
   ]
  },
  {
   "cell_type": "code",
   "execution_count": null,
   "metadata": {},
   "outputs": [],
   "source": [
    "album_acousticness_geo_list = []\n",
    "\n",
    "for i in range(0,len(album_uri_array)):\n",
    "    weighted_val = []\n",
    "    album_uri = album_uri_array[i]\n",
    "    sp = spotipy.Spotify(auth_manager= SpotifyClientCredentials(client_id=\"f854a0450b6b42a28e2ca07467952dd9\", client_secret=\"a03c781ad399487daf947c4a2533bd79\"))\n",
    "    for x in range(0, len(sp.album_tracks(album_uri)['items'])):\n",
    "        t_dur = get_track_duration(sp.album_tracks(album_uri)['items'][x]['uri'])\n",
    "        a_dur = get_album_duration(album_uri)\n",
    "        t_val = get_track_acousticness(sp.album_tracks(album_uri)['items'][x]['uri'])\n",
    "        weighted_val.append(t_val * (t_dur/a_dur))\n",
    "    sum_weighted_val = sum(weighted_val)\n",
    "    album_acousticness_geo_list.append(sum_weighted_val)"
   ]
  },
  {
   "cell_type": "code",
   "execution_count": null,
   "metadata": {},
   "outputs": [],
   "source": [
    "def get_track_instrumentalness(track_uri):\n",
    "    return sp.audio_features(track_uri)[0]['instrumentalness']\n",
    "\n",
    "def get_album_instrumentalness(album_uri):\n",
    "    album_instrumentalness = []\n",
    "    tracks = sp.album_tracks(album_uri)\n",
    "    for i in range(0, len(tracks['items'])):\n",
    "        album_instrumentalness.append(get_track_instrumentalness(sp.album_tracks(album_uri)['items'][i]['uri']))\n",
    "    album_instrumentalness = sum(album_instrumentalness)\n",
    "    return album_instrumentalness"
   ]
  },
  {
   "cell_type": "code",
   "execution_count": null,
   "metadata": {},
   "outputs": [],
   "source": [
    "album_instrumentalness_ari_list = []\n",
    "i = 0\n",
    "for i in range(0,len(album_uri_array)):\n",
    "    album_uri = album_uri_array[i]\n",
    "    album_instrumentalness_ari_list.append(get_album_instrumentalness(album_uri) / (len(sp.album_tracks(album_uri)['items'])))"
   ]
  },
  {
   "cell_type": "code",
   "execution_count": null,
   "metadata": {},
   "outputs": [],
   "source": [
    "album_instrumentalness_geo_list = []\n",
    "\n",
    "for i in range(0,len(album_uri_array)):\n",
    "    weighted_val = []\n",
    "    album_uri = album_uri_array[i]\n",
    "    sp = spotipy.Spotify(auth_manager= SpotifyClientCredentials(client_id=\"f854a0450b6b42a28e2ca07467952dd9\", client_secret=\"a03c781ad399487daf947c4a2533bd79\"))\n",
    "    for x in range(0, len(sp.album_tracks(album_uri)['items'])):\n",
    "        t_dur = get_track_duration(sp.album_tracks(album_uri)['items'][x]['uri'])\n",
    "        a_dur = get_album_duration(album_uri)\n",
    "        t_val = get_track_instrumentalness(sp.album_tracks(album_uri)['items'][x]['uri'])\n",
    "        weighted_val.append(t_val * (t_dur/a_dur))\n",
    "    sum_weighted_val = sum(weighted_val)\n",
    "    album_instrumentalness_geo_list.append(sum_weighted_val)\n",
    "print(\"Done!\")"
   ]
  },
  {
   "cell_type": "code",
   "execution_count": null,
   "metadata": {},
   "outputs": [],
   "source": [
    "def get_track_liveness(track_uri):\n",
    "    return sp.audio_features(track_uri)[0]['liveness']\n",
    "\n",
    "def get_album_liveness(album_uri):\n",
    "    album_liveness = []\n",
    "    tracks = sp.album_tracks(album_uri)\n",
    "    for i in range(0, len(tracks['items'])):\n",
    "        album_liveness.append(get_track_liveness(sp.album_tracks(album_uri)['items'][i]['uri']))\n",
    "    album_liveness = sum(album_liveness)\n",
    "    return album_liveness"
   ]
  },
  {
   "cell_type": "code",
   "execution_count": null,
   "metadata": {},
   "outputs": [],
   "source": [
    "album_liveness_ari_list = []\n",
    "i = 0\n",
    "for i in range(0,len(album_uri_array)):\n",
    "    album_uri = album_uri_array[i]\n",
    "    album_liveness_ari_list.append(get_album_liveness(album_uri) / (len(sp.album_tracks(album_uri)['items'])))"
   ]
  },
  {
   "cell_type": "code",
   "execution_count": null,
   "metadata": {},
   "outputs": [],
   "source": [
    "album_liveness_geo_list = []\n",
    "\n",
    "for i in range(0,len(album_uri_array)):\n",
    "    weighted_val = []\n",
    "    album_uri = album_uri_array[i]\n",
    "    sp = spotipy.Spotify(auth_manager= SpotifyClientCredentials(client_id=\"f854a0450b6b42a28e2ca07467952dd9\", client_secret=\"a03c781ad399487daf947c4a2533bd79\"))\n",
    "    for x in range(0, len(sp.album_tracks(album_uri)['items'])):\n",
    "        t_dur = get_track_duration(sp.album_tracks(album_uri)['items'][x]['uri'])\n",
    "        a_dur = get_album_duration(album_uri)\n",
    "        t_val = get_track_liveness(sp.album_tracks(album_uri)['items'][x]['uri'])\n",
    "        weighted_val.append(t_val * (t_dur/a_dur))\n",
    "    sum_weighted_val = sum(weighted_val)\n",
    "    album_liveness_geo_list.append(sum_weighted_val)\n",
    "print(\"Done!\")"
   ]
  },
  {
   "cell_type": "code",
   "execution_count": null,
   "metadata": {},
   "outputs": [],
   "source": [
    "def get_track_tempo(track_uri):\n",
    "    return sp.audio_features(track_uri)[0]['tempo']\n",
    "\n",
    "def get_album_tempo(album_uri):\n",
    "    album_tempo = []\n",
    "    tracks = sp.album_tracks(album_uri)\n",
    "    for i in range(0, len(tracks['items'])):\n",
    "        album_tempo.append(get_track_tempo(sp.album_tracks(album_uri)['items'][i]['uri']))\n",
    "    album_tempo = sum(album_tempo)\n",
    "    return album_tempo"
   ]
  },
  {
   "cell_type": "code",
   "execution_count": null,
   "metadata": {},
   "outputs": [],
   "source": [
    "album_tempo_ari_list = []\n",
    "i = 0\n",
    "for i in range(0,len(album_uri_array)):\n",
    "    album_uri = album_uri_array[i]\n",
    "    album_tempo_ari_list.append(get_album_tempo(album_uri) / (len(sp.album_tracks(album_uri)['items'])))"
   ]
  },
  {
   "cell_type": "code",
   "execution_count": null,
   "metadata": {},
   "outputs": [],
   "source": [
    "album_tempo_geo_list = []\n",
    "\n",
    "for i in range(0,len(album_uri_array)):\n",
    "    weighted_val = []\n",
    "    album_uri = album_uri_array[i]\n",
    "    sp = spotipy.Spotify(auth_manager= SpotifyClientCredentials(client_id=\"f854a0450b6b42a28e2ca07467952dd9\", client_secret=\"a03c781ad399487daf947c4a2533bd79\"))\n",
    "    for x in range(0, len(sp.album_tracks(album_uri)['items'])):\n",
    "        t_dur = get_track_duration(sp.album_tracks(album_uri)['items'][x]['uri'])\n",
    "        a_dur = get_album_duration(album_uri)\n",
    "        t_val = get_track_tempo(sp.album_tracks(album_uri)['items'][x]['uri'])\n",
    "        weighted_val.append(t_val * (t_dur/a_dur))\n",
    "    sum_weighted_val = sum(weighted_val)\n",
    "    album_tempo_geo_list.append(sum_weighted_val)\n",
    "print(\"Done!\")"
   ]
  },
  {
   "cell_type": "code",
   "execution_count": null,
   "metadata": {},
   "outputs": [],
   "source": [
    "#CSV File\n",
    "dict = {'album_danceability_geo_list':album_danceability_geo_list,'album_energy_geo_list':album_energy_geo_list,'album_key_geo_list':album_key_geo_list,'album_loudness_geo_list':album_loudness_geo_list}\n",
    "df = pd.DataFrame(dict)\n",
    "df.to_csv('SpotifyAlbum.csv')"
   ]
  },
  {
   "cell_type": "code",
   "execution_count": null,
   "metadata": {},
   "outputs": [],
   "source": [
    "print(len(album_mode_geo_list))\n",
    "print(len(album_mode_geo2_list))\n",
    "print(len(album_acousticness_geo_list))\n",
    "print(len(album_instrumentalness_geo_list))\n",
    "print(len(album_liveness_geo_list))\n",
    "print(len(album_tempo_geo_list))"
   ]
  },
  {
   "cell_type": "code",
   "execution_count": null,
   "metadata": {},
   "outputs": [],
   "source": []
  }
 ],
 "metadata": {
  "kernelspec": {
   "display_name": "Python 3",
   "language": "python",
   "name": "python3"
  },
  "language_info": {
   "codemirror_mode": {
    "name": "ipython",
    "version": 3
   },
   "file_extension": ".py",
   "mimetype": "text/x-python",
   "name": "python",
   "nbconvert_exporter": "python",
   "pygments_lexer": "ipython3",
   "version": "3.7.3"
  }
 },
 "nbformat": 4,
 "nbformat_minor": 4
}
