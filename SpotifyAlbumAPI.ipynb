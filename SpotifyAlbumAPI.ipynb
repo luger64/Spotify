{
 "cells": [
  {
   "cell_type": "code",
   "execution_count": 488,
   "metadata": {},
   "outputs": [],
   "source": [
    "import pandas as pd\n",
    "import numpy as np\n",
    "import spotipy\n",
    "from spotipy.oauth2 import SpotifyClientCredentials\n",
    "sp = spotipy.Spotify(auth_manager= SpotifyClientCredentials(client_id=\"f854a0450b6b42a28e2ca07467952dd9\", client_secret=\"a03c781ad399487daf947c4a2533bd79\"))\n",
    "sp.trace = False\n",
    "file = pd.read_csv(\"DataWIP.csv\",encoding= 'unicode_escape')\n",
    "\n",
    "#Loading Artists, URIs, and Albums from CSV\n",
    "type(file[\"Artist\"])\n",
    "artist_array = np.array(file[\"Artist\"])\n",
    "type(file[\"Album\"])\n",
    "album_array = np.array(file[\"Album\"])\n",
    "type(file['AlbumURI'])\n",
    "album_uri_array = np.array(file['AlbumURI'])\n",
    "\n",
    "def get_album_uri(album, artist):\n",
    "#Search for album & artist\n",
    "    q = \"album:{album} artist:{artist}\".format(album=album, artist=artist)\n",
    "    sp.search(q, type = \"album\")\n",
    "    results = sp.search(q, type = \"album\")\n",
    "    album_uri = results['albums']['items'][0]['uri']\n",
    "    return album_uri\n",
    "\n",
    "def get_album_duration(album_uri):\n",
    "    duration = []\n",
    "    tracks = sp.album_tracks(album_uri)\n",
    "    for track in tracks['items']:\n",
    "        duration.append(track['duration_ms'])\n",
    "    album_duration = sum(duration)\n",
    "    return album_duration\n",
    "\n",
    "def get_album_date(album_uri):\n",
    "    return sp.album(album_uri)['release_date']"
   ]
  },
  {
   "cell_type": "code",
   "execution_count": 433,
   "metadata": {},
   "outputs": [],
   "source": [
    "album_uri_list = []\n",
    "\n",
    "for i in range(0,len(album_array)):\n",
    "    if get_album_uri(album_array[i], artist_array[i]) is not None:\n",
    "        album_uri_list.append(get_album_uri(album_array[i], artist_array[i]))\n",
    "    else:\n",
    "        album_uri_list.append(None)"
   ]
  },
  {
   "cell_type": "code",
   "execution_count": 490,
   "metadata": {},
   "outputs": [
    {
     "name": "stdout",
     "output_type": "stream",
     "text": [
      "Done!\n"
     ]
    }
   ],
   "source": [
    "album_duration_list = []\n",
    "\n",
    "for i in range(0,len(album_uri_array)):\n",
    "    if album_uri_array[i] == \"NOT\":\n",
    "        album_duration_list.append(None)\n",
    "    else:\n",
    "        album_duration_list.append(get_album_duration(album_uri_array[i]))\n",
    "print(\"Done!\")"
   ]
  },
  {
   "cell_type": "code",
   "execution_count": 480,
   "metadata": {},
   "outputs": [
    {
     "name": "stdout",
     "output_type": "stream",
     "text": [
      "Done!\n"
     ]
    }
   ],
   "source": [
    "album_date_list = []\n",
    "\n",
    "for i in range(0,len(album_uri_array)):\n",
    "    if album_uri_array[i] == \"NOT\":\n",
    "        album_date_list.append(None)\n",
    "    else:\n",
    "        album_date_list.append(get_album_date(album_uri_array[i]))\n",
    "print(\"Done!\")"
   ]
  },
  {
   "cell_type": "code",
   "execution_count": 491,
   "metadata": {},
   "outputs": [],
   "source": [
    "#CSV File\n",
    "dict = {'Duration':album_duration_list} #Change as needed\n",
    "df = pd.DataFrame(dict)\n",
    "df.to_csv('SpotifyAlbum.csv')"
   ]
  },
  {
   "cell_type": "code",
   "execution_count": null,
   "metadata": {},
   "outputs": [],
   "source": []
  }
 ],
 "metadata": {
  "kernelspec": {
   "display_name": "Python 3",
   "language": "python",
   "name": "python3"
  },
  "language_info": {
   "codemirror_mode": {
    "name": "ipython",
    "version": 3
   },
   "file_extension": ".py",
   "mimetype": "text/x-python",
   "name": "python",
   "nbconvert_exporter": "python",
   "pygments_lexer": "ipython3",
   "version": "3.7.3"
  }
 },
 "nbformat": 4,
 "nbformat_minor": 4
}
