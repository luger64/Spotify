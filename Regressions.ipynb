{
 "cells": [
  {
   "cell_type": "code",
   "execution_count": null,
   "metadata": {},
   "outputs": [],
   "source": [
    "import matplotlib.pyplot as plt\n",
    "import numpy as np\n",
    "import pandas as pd\n",
    "import seaborn as sns\n",
    "import statsmodels.api as sm\n",
    "import warnings\n",
    "from numpy.linalg import matrix_rank, inv\n",
    "from sklearn.preprocessing import StandardScaler\n",
    "from statsmodels.stats.outliers_influence import variance_inflation_factor\n",
    "from statsmodels.tools.tools import add_constant\n",
    "from mpl_toolkits.mplot3d import Axes3D as ax\n"
   ]
  },
  {
   "cell_type": "code",
   "execution_count": null,
   "metadata": {},
   "outputs": [],
   "source": [
    "df = pd.read_csv('DataNoDupXY.csv',encoding= 'unicode_escape')\n",
    "def fit_ols(x, y):\n",
    "    model = sm.OLS(y, x)\n",
    "    results = model.fit()\n",
    "    return results.summary()"
   ]
  },
  {
   "cell_type": "code",
   "execution_count": null,
   "metadata": {},
   "outputs": [],
   "source": [
    "from statsmodels.stats.outliers_influence import variance_inflation_factor \n",
    "  \n",
    "# the independent variables set - change as see fit\n",
    "X = df[['AlbumCount','SpotifyPopularity','Duration','ChartWeeks','SpotifyFollowers','StreamsPercentAEU','StreamsToSalesAEU','ChartReleaseDiff','Valence','Danceability','Key','Loudness','Mode','Speechiness','Acousticness','Instrumentalness','Liveness','Tempo']]\n",
    "y = df['AEU']\n",
    "X=sm.add_constant(X)\n",
    "# VIF dataframe \n",
    "vif_data = pd.DataFrame() \n",
    "vif_data[\"Independent Variable\"] = X.columns \n",
    "  \n",
    "# calculating VIF for each feature \n",
    "vif_data[\"VIF\"] = [variance_inflation_factor(X.values, i)\n",
    "                          for i in range(len(X.columns))] \n",
    "  \n",
    "print(vif_data)"
   ]
  },
  {
   "cell_type": "code",
   "execution_count": null,
   "metadata": {},
   "outputs": [],
   "source": [
    "print(fit_ols(X,y))"
   ]
  },
  {
   "cell_type": "code",
   "execution_count": null,
   "metadata": {},
   "outputs": [],
   "source": [
    "from statsmodels.stats.outliers_influence import variance_inflation_factor \n",
    "  \n",
    "# the independent variables set \n",
    "X2 = df[['AlbumCount','WeightedFollowers','Duration','ChartWeeks','StreamsPercentAEU','StreamsToSalesAEU','ChartReleaseDiff','Valence','Danceability','Key','Loudness','Mode','Speechiness','Acousticness','Instrumentalness','Liveness','Tempo']]\n",
    "X2 = sm.add_constant(X2)\n",
    "y2 = df['AEU']\n",
    "\n",
    "# VIF dataframe \n",
    "vif_data = pd.DataFrame() \n",
    "vif_data[\"Independent Variable\"] = X2.columns \n",
    "  \n",
    "# calculating VIF for each feature \n",
    "vif_data[\"VIF\"] = [variance_inflation_factor(X2.values, i)\n",
    "                          for i in range(len(X2.columns))] \n",
    "  \n",
    "print(vif_data)"
   ]
  },
  {
   "cell_type": "code",
   "execution_count": null,
   "metadata": {},
   "outputs": [],
   "source": [
    "print(fit_ols(X2,y2))"
   ]
  },
  {
   "cell_type": "code",
   "execution_count": null,
   "metadata": {},
   "outputs": [],
   "source": [
    "from statsmodels.stats.outliers_influence import variance_inflation_factor \n",
    "  \n",
    "# the independent variables set \n",
    "X3 = df[['AlbumCount','Duration','ChartWeeks','WeightedFollowers','StreamsPercentAEU','ChartReleaseDiff','Energy','Speechiness','Acousticness','Instrumentalness']]\n",
    "X3=sm.add_constant(X3)\n",
    "y3 = df['AvgAEU']\n",
    "\n",
    "print(fit_ols(X3,y3))"
   ]
  },
  {
   "cell_type": "code",
   "execution_count": null,
   "metadata": {},
   "outputs": [],
   "source": [
    "from statsmodels.stats.outliers_influence import variance_inflation_factor \n",
    "  \n",
    "# the independent variables set \n",
    "X4 = df[['AlbumCount','Duration','ChartWeeks','WeightedFollowers','StreamsPercentAEU','ChartReleaseDiff','Energy','Speechiness','Acousticness','Instrumentalness']]\n",
    "X4 = sm.add_constant(X4)\n",
    "y4 = df['AvgAEU']\n",
    "\n",
    "print(fit_ols(X4,y4))"
   ]
  },
  {
   "cell_type": "code",
   "execution_count": null,
   "metadata": {},
   "outputs": [],
   "source": [
    "from statsmodels.stats.outliers_influence import variance_inflation_factor \n",
    "  \n",
    "# the independent variables set \n",
    "X5 = df[['AlbumCount','Duration','ChartWeeks','WeightedFollowers','StreamsPercentAEU','ChartReleaseDiff','Energy','Speechiness','Acousticness','Instrumentalness']]\n",
    "X5 = sm.add_constant(X4)\n",
    "y5 = df['LogAEU']\n",
    "\n",
    "print(fit_ols(X5,y5))"
   ]
  },
  {
   "cell_type": "code",
   "execution_count": null,
   "metadata": {},
   "outputs": [],
   "source": [
    "from statsmodels.stats.outliers_influence import variance_inflation_factor \n",
    "  \n",
    "# the independent variables set \n",
    "X6 = df[['AlbumCount','Duration','ChartWeeks','WeightedFollowers','StreamsPercentAEU','ChartReleaseDiff','Energy','Speechiness','Acousticness','Instrumentalness']]\n",
    "X6 = sm.add_constant(X6)\n",
    "y6 = df['LogAvgAEU']\n",
    "\n",
    "print(fit_ols(X6,y6))"
   ]
  },
  {
   "cell_type": "code",
   "execution_count": null,
   "metadata": {},
   "outputs": [],
   "source": [
    "from statsmodels.stats.outliers_influence import variance_inflation_factor \n",
    "  \n",
    "# the independent variables set \n",
    "X7 = df[['AlbumCount','Duration','ChartWeeks','WeightedFollowers','StreamsPercentAEU','ChartReleaseDiff','Energy','Speechiness','Acousticness','Instrumentalness']]\n",
    "y7 = df['LogAvgAEU']\n",
    "\n",
    "print(fit_ols(X7,y7))"
   ]
  },
  {
   "cell_type": "code",
   "execution_count": null,
   "metadata": {},
   "outputs": [],
   "source": [
    "from statsmodels.stats.outliers_influence import variance_inflation_factor \n",
    "  \n",
    "# the independent variables set \n",
    "X8 = df[['AlbumCount','Duration','ChartWeeks','WeightedFollowers','StreamsPercentAEU','ChartReleaseDiff','Energy','Speechiness','Acousticness','Instrumentalness']]\n",
    "y8 = df['LnAEU']\n",
    "X8 = sm.add_constant(X8)\n",
    "\n",
    "print(fit_ols(X8,y8))"
   ]
  },
  {
   "cell_type": "code",
   "execution_count": null,
   "metadata": {},
   "outputs": [],
   "source": [
    "from statsmodels.stats.outliers_influence import variance_inflation_factor \n",
    "  \n",
    "# the independent variables set \n",
    "X8 = df[['SpotifyPopularity']]\n",
    "y8 = df['AEU']\n",
    "X8 = sm.add_constant(X8)\n",
    "\n",
    "print(fit_ols(X8,y8))"
   ]
  },
  {
   "cell_type": "code",
   "execution_count": null,
   "metadata": {},
   "outputs": [],
   "source": [
    "from statsmodels.stats.outliers_influence import variance_inflation_factor \n",
    "  \n",
    "# the independent variables set \n",
    "X9 = df[['Duration']]\n",
    "y9 = df['AEU']\n",
    "\n",
    "print(fit_ols(X9,y9))"
   ]
  },
  {
   "cell_type": "code",
   "execution_count": null,
   "metadata": {},
   "outputs": [],
   "source": [
    "plt.scatter(X9/3600,y9)"
   ]
  },
  {
   "cell_type": "code",
   "execution_count": null,
   "metadata": {},
   "outputs": [],
   "source": [
    "y = df['AEU']\n",
    "X = df[['SpotifyPopularity']]\n",
    "plt.scatter(X,y)"
   ]
  },
  {
   "cell_type": "code",
   "execution_count": null,
   "metadata": {},
   "outputs": [],
   "source": [
    "X = sm.add_constant(X)\n",
    "print(fit_ols(X,y))"
   ]
  },
  {
   "cell_type": "code",
   "execution_count": null,
   "metadata": {},
   "outputs": [],
   "source": [
    "y = df['AEU']\n",
    "X = df[['SpotifyPopularity']]\n",
    "plt.scatter(X,y)"
   ]
  },
  {
   "cell_type": "code",
   "execution_count": null,
   "metadata": {},
   "outputs": [],
   "source": []
  }
 ],
 "metadata": {
  "kernelspec": {
   "display_name": "Python 3",
   "language": "python",
   "name": "python3"
  },
  "language_info": {
   "codemirror_mode": {
    "name": "ipython",
    "version": 3
   },
   "file_extension": ".py",
   "mimetype": "text/x-python",
   "name": "python",
   "nbconvert_exporter": "python",
   "pygments_lexer": "ipython3",
   "version": "3.7.3"
  }
 },
 "nbformat": 4,
 "nbformat_minor": 4
}
