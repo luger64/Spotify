{
 "cells": [
  {
   "cell_type": "code",
   "execution_count": 2,
   "metadata": {},
   "outputs": [],
   "source": [
    "import spotipy\n",
    "import pandas as pd\n",
    "import numpy as np\n",
    "import pprint\n",
    "import sys\n",
    "from spotipy.oauth2 import SpotifyClientCredentials"
   ]
  },
  {
   "cell_type": "code",
   "execution_count": 4,
   "metadata": {},
   "outputs": [],
   "source": [
    "file = pd.read_csv(\"DataWIP.csv\",encoding= 'unicode_escape')\n",
    "sp = spotipy.Spotify(auth_manager= SpotifyClientCredentials(client_id=\"f854a0450b6b42a28e2ca07467952dd9\", client_secret=\"a03c781ad399487daf947c4a2533bd79\"))\n",
    "\n",
    "#Loading Artists and Albums from CSV\n",
    "type(file[\"Artist\"])\n",
    "artist_array = np.array(file[\"Artist\"])\n",
    "type(file[\"Album\"])\n",
    "album_array = np.array(file[\"Album\"])"
   ]
  },
  {
   "cell_type": "code",
   "execution_count": 5,
   "metadata": {},
   "outputs": [],
   "source": [
    "def get_artist(name):\n",
    "    results = sp.search(q='artist:' + name, type='artist')\n",
    "    items = results['artists']['items']\n",
    "    if len(items) > 0:\n",
    "        return items[0]\n",
    "    else:\n",
    "        return None"
   ]
  },
  {
   "cell_type": "code",
   "execution_count": 6,
   "metadata": {},
   "outputs": [],
   "source": [
    "def get_popularity(name):\n",
    "    results = sp.search(name, type = 'artist')\n",
    "    items = results['artists']['items'][0]['popularity']\n",
    "    return(items)"
   ]
  },
  {
   "cell_type": "code",
   "execution_count": 7,
   "metadata": {},
   "outputs": [],
   "source": [
    "def get_followers(name):\n",
    "    results = sp.search(name, type = 'artist')\n",
    "    items = results['artists']['items'][0]['followers']['total']\n",
    "    return(items)"
   ]
  },
  {
   "cell_type": "code",
   "execution_count": 8,
   "metadata": {},
   "outputs": [],
   "source": [
    "def get_albumdate(name):\n",
    "    results = sp.search(name, type = 'album')\n",
    "    items = results['albums']['items'][0]['release_date']\n",
    "    if len(items) > 0:\n",
    "        return(items)\n",
    "    else:\n",
    "        return None"
   ]
  },
  {
   "cell_type": "code",
   "execution_count": 9,
   "metadata": {},
   "outputs": [],
   "source": [
    "def get_albumcount(name):\n",
    "    result = sp.search(name) #search query\n",
    "    result['tracks']['items'][0]['artists']\n",
    "\n",
    "    #Extract Artist's uri\n",
    "    artist_uri = get_artisturi(name)\n",
    "\n",
    "    #Pull all of the artist's albums\n",
    "    sp_albums = sp.artist_albums(artist_uri, album_type='album')\n",
    "\n",
    "    album_names = []\n",
    "    for i in range(len(sp_albums['items'])):\n",
    "        album_names.append(sp_albums['items'][i]['name'])\n",
    "    album_dict = list(dict.fromkeys(album_names))\n",
    "    return len(album_dict)"
   ]
  },
  {
   "cell_type": "code",
   "execution_count": 316,
   "metadata": {},
   "outputs": [],
   "source": [
    "def get_artisturi(name):\n",
    "    result = sp.search(q='artist:' + name, type='artist')\n",
    "    items = result['artists']['items']\n",
    "    if len(items) > 0:\n",
    "        return items[0]['uri']\n",
    "    else:\n",
    "        return None"
   ]
  },
  {
   "cell_type": "code",
   "execution_count": 277,
   "metadata": {},
   "outputs": [],
   "source": [
    "uri_list = []\n",
    "for i in range(len(artist_array)):\n",
    "    uri_list.append(get_artisturi(artist_array[i]))"
   ]
  },
  {
   "cell_type": "code",
   "execution_count": 278,
   "metadata": {},
   "outputs": [],
   "source": [
    "follower_list = []\n",
    "\n",
    "for i in range(0, len(artist_array)):\n",
    "    if get_followers(artist_array[i]) is not None:\n",
    "        follower_list.append(get_followers(artist_array[i]))\n",
    "    else:\n",
    "        follower_list.append(None)"
   ]
  },
  {
   "cell_type": "code",
   "execution_count": 279,
   "metadata": {},
   "outputs": [],
   "source": [
    "popularity_list = []\n",
    "\n",
    "for i in range(0, len(artist_array)):\n",
    "    if get_popularity(artist_array[i]) is not None:\n",
    "        popularity_list.append(get_popularity(artist_array[i]))\n",
    "    else:\n",
    "        popularity_list.append(None)"
   ]
  },
  {
   "cell_type": "code",
   "execution_count": 285,
   "metadata": {},
   "outputs": [],
   "source": [
    "count_list = []\n",
    "\n",
    "for i in range(0, len(artist_array)):\n",
    "    if get_albumcount(artist_array[i]) is not None:\n",
    "        count_list.append(get_albumcount(artist_array[i]))\n",
    "    else:\n",
    "        count_list.append(None)"
   ]
  },
  {
   "cell_type": "code",
   "execution_count": 291,
   "metadata": {},
   "outputs": [],
   "source": [
    "#CSV File\n",
    "dict = {'AlbumCount': count_list,'URI': uri_list, 'SpotifyFollowers': follower_list, 'SpotifyPopularity': popularity_list}#, 'AlbumDate': albumdate_list}\n",
    "df = pd.DataFrame(dict)\n",
    "df.to_csv('Spotify.csv')"
   ]
  }
 ],
 "metadata": {
  "kernelspec": {
   "display_name": "Python 3",
   "language": "python",
   "name": "python3"
  },
  "language_info": {
   "codemirror_mode": {
    "name": "ipython",
    "version": 3
   },
   "file_extension": ".py",
   "mimetype": "text/x-python",
   "name": "python",
   "nbconvert_exporter": "python",
   "pygments_lexer": "ipython3",
   "version": "3.7.3"
  }
 },
 "nbformat": 4,
 "nbformat_minor": 4
}
